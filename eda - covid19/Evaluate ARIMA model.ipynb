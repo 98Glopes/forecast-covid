{
 "cells": [
  {
   "cell_type": "code",
   "execution_count": 18,
   "id": "f9781604",
   "metadata": {},
   "outputs": [],
   "source": [
    "import pandas as pd\n",
    "import numpy as np\n",
    "import matplotlib.pyplot as plt\n",
    "import seaborn as sns\n",
    "import pmdarima as pm\n",
    "from pmdarima.model_selection import train_test_split\n",
    "from sklearn.metrics import mean_squared_error\n",
    "import warnings\n",
    "warnings.simplefilter('ignore')\n",
    "\n",
    "\n",
    "sns.set_style('darkgrid')\n",
    "%matplotlib inline"
   ]
  },
  {
   "cell_type": "markdown",
   "id": "77c26d89",
   "metadata": {},
   "source": [
    "## Evaluate ARIMA model\n",
    "\n",
    "`Apply cross validation on ARIMA model to get an mediun precision score`"
   ]
  },
  {
   "cell_type": "code",
   "execution_count": 19,
   "id": "d45d06b0",
   "metadata": {},
   "outputs": [],
   "source": [
    "complete_dataset = pd.read_csv('./../data/owid-covid-data.csv')\n",
    "interest_columns = ['location', 'date', 'new_cases', 'new_cases_smoothed']\n",
    "dataset = complete_dataset[interest_columns].copy()\n",
    "dataset = dataset.set_index('date')\n",
    "\n",
    "# Filter only world data\n",
    "\n",
    "cases = dataset[dataset['location'] == 'World']"
   ]
  },
  {
   "cell_type": "code",
   "execution_count": 20,
   "id": "91618f06",
   "metadata": {},
   "outputs": [],
   "source": [
    "y = cases['new_cases']"
   ]
  },
  {
   "cell_type": "code",
   "execution_count": 41,
   "id": "a9e4ef4e",
   "metadata": {},
   "outputs": [],
   "source": [
    "cv = pm.model_selection.SlidingWindowForecastCV(\n",
    "    window_size=250, step=50, h=1\n",
    ")"
   ]
  },
  {
   "cell_type": "code",
   "execution_count": 42,
   "id": "e967ce06",
   "metadata": {},
   "outputs": [],
   "source": [
    "arima = pm.ARIMA(\n",
    "    order=(2, 1, 2),\n",
    "    seasonal_order=(2, 0, 2, 12)\n",
    ")"
   ]
  },
  {
   "cell_type": "code",
   "execution_count": 43,
   "id": "a2a2f361",
   "metadata": {},
   "outputs": [
    {
     "name": "stdout",
     "output_type": "stream",
     "text": [
      "[CV] fold=0 ..........................................................\n",
      "fold=0, score=2.903 [time=3.189 sec]\n",
      "[CV] fold=1 ..........................................................\n",
      "fold=1, score=4.143 [time=1.278 sec]\n",
      "[CV] fold=2 ..........................................................\n",
      "fold=2, score=1.243 [time=2.880 sec]\n",
      "[CV] fold=3 ..........................................................\n",
      "fold=3, score=3.956 [time=2.548 sec]\n",
      "[CV] fold=4 ..........................................................\n",
      "fold=4, score=10.605 [time=2.492 sec]\n",
      "Model Precision 95.42981573630212\n"
     ]
    }
   ],
   "source": [
    "score = pm.model_selection.cross_val_score(\n",
    "    arima, y, verbose=3, cv=cv, scoring='smape'\n",
    ")\n",
    "accuracy = 100 - score.mean() \n",
    "print(f'Model Precision {accuracy}')"
   ]
  }
 ],
 "metadata": {
  "kernelspec": {
   "display_name": "Python 3",
   "language": "python",
   "name": "python3"
  },
  "language_info": {
   "codemirror_mode": {
    "name": "ipython",
    "version": 3
   },
   "file_extension": ".py",
   "mimetype": "text/x-python",
   "name": "python",
   "nbconvert_exporter": "python",
   "pygments_lexer": "ipython3",
   "version": "3.6.9"
  }
 },
 "nbformat": 4,
 "nbformat_minor": 5
}
